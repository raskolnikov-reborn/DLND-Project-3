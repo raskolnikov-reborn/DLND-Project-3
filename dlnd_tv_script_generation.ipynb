{
 "cells": [
  {
   "cell_type": "markdown",
   "metadata": {
    "deletable": true,
    "editable": true
   },
   "source": [
    "# TV Script Generation\n",
    "In this project, you'll generate your own [Simpsons](https://en.wikipedia.org/wiki/The_Simpsons) TV scripts using RNNs.  You'll be using part of the [Simpsons dataset](https://www.kaggle.com/wcukierski/the-simpsons-by-the-data) of scripts from 27 seasons.  The Neural Network you'll build will generate a new TV script for a scene at [Moe's Tavern](https://simpsonswiki.com/wiki/Moe's_Tavern).\n",
    "## Get the Data\n",
    "The data is already provided for you.  You'll be using a subset of the original dataset.  It consists of only the scenes in Moe's Tavern.  This doesn't include other versions of the tavern, like \"Moe's Cavern\", \"Flaming Moe's\", \"Uncle Moe's Family Feed-Bag\", etc.."
   ]
  },
  {
   "cell_type": "code",
   "execution_count": 1,
   "metadata": {
    "collapsed": false,
    "deletable": true,
    "editable": true
   },
   "outputs": [],
   "source": [
    "\"\"\"\n",
    "DON'T MODIFY ANYTHING IN THIS CELL\n",
    "\"\"\"\n",
    "import helper\n",
    "\n",
    "data_dir = './data/simpsons/moes_tavern_lines.txt'\n",
    "text = helper.load_data(data_dir)\n",
    "# Ignore notice, since we don't use it for analysing the data\n",
    "text = text[81:]"
   ]
  },
  {
   "cell_type": "markdown",
   "metadata": {
    "deletable": true,
    "editable": true
   },
   "source": [
    "## Explore the Data\n",
    "Play around with `view_sentence_range` to view different parts of the data."
   ]
  },
  {
   "cell_type": "code",
   "execution_count": 2,
   "metadata": {
    "collapsed": false,
    "deletable": true,
    "editable": true
   },
   "outputs": [
    {
     "name": "stdout",
     "output_type": "stream",
     "text": [
      "Dataset Stats\n",
      "Roughly the number of unique words: 11492\n",
      "Number of scenes: 262\n",
      "Average number of sentences in each scene: 15.248091603053435\n",
      "Number of lines: 4257\n",
      "Average number of words in each line: 11.50434578341555\n",
      "\n",
      "The sentences 20 to 40:\n",
      "\n",
      "Moe_Szyslak: Looks like this is the end.\n",
      "Barney_Gumble: That's all right. I couldn't have led a richer life.\n",
      "Barney_Gumble: So the next time somebody tells you county folk are good, honest people, you can spit in their faces for me!\n",
      "Lisa_Simpson: I will, Mr. Gumbel. But if you'll excuse me, I'm profiling my dad for the school paper. I thought it would be neat to follow him around for a day to see what makes him tick.\n",
      "Barney_Gumble: Oh, that's sweet. I used to follow my dad to a lot of bars too. (BELCH)\n",
      "Moe_Szyslak: Here you go. One beer, one chocolate milk.\n",
      "Lisa_Simpson: Uh, excuse me, I have the chocolate milk.\n",
      "Moe_Szyslak: Oh.\n",
      "Moe_Szyslak: What's the matter, Homer? The depressin' effects of alcohol usually don't kick in 'til closing time.\n",
      "Lisa_Simpson: He's just a little nervous. (PROUDLY) He has to give a speech tomorrow on \"How To Keep Cool In A Crisis.\"\n",
      "Homer_Simpson: (SOBS) What am I gonna do? What am I gonna do?\n",
      "Barney_Gumble: Hey, I had to give a speech once. I was pretty nervous, so I used a little trick. I pictured everyone in their underwear. The judge, the jury, my lawyer, everybody.\n",
      "Homer_Simpson: Did it work?\n",
      "Barney_Gumble: I'm a free man, ain't I?\n",
      "Barney_Gumble: Whoa!\n",
      "Barney_Gumble: Huh? A pretzel? Wow, looks like I pulled a Homer!\n",
      "\n",
      "\n",
      "Patrons: (MUMBLING, NOT IN UNISON) Happy thoughts... happy thoughts... we love that boy.\n"
     ]
    }
   ],
   "source": [
    "view_sentence_range = (20, 40)\n",
    "\n",
    "\"\"\"\n",
    "DON'T MODIFY ANYTHING IN THIS CELL\n",
    "\"\"\"\n",
    "import numpy as np\n",
    "\n",
    "print('Dataset Stats')\n",
    "print('Roughly the number of unique words: {}'.format(len({word: None for word in text.split()})))\n",
    "scenes = text.split('\\n\\n')\n",
    "print('Number of scenes: {}'.format(len(scenes)))\n",
    "sentence_count_scene = [scene.count('\\n') for scene in scenes]\n",
    "print('Average number of sentences in each scene: {}'.format(np.average(sentence_count_scene)))\n",
    "\n",
    "sentences = [sentence for scene in scenes for sentence in scene.split('\\n')]\n",
    "print('Number of lines: {}'.format(len(sentences)))\n",
    "word_count_sentence = [len(sentence.split()) for sentence in sentences]\n",
    "print('Average number of words in each line: {}'.format(np.average(word_count_sentence)))\n",
    "\n",
    "print()\n",
    "print('The sentences {} to {}:'.format(*view_sentence_range))\n",
    "print('\\n'.join(text.split('\\n')[view_sentence_range[0]:view_sentence_range[1]]))"
   ]
  },
  {
   "cell_type": "markdown",
   "metadata": {
    "deletable": true,
    "editable": true
   },
   "source": [
    "## Implement Preprocessing Functions\n",
    "The first thing to do to any dataset is preprocessing.  Implement the following preprocessing functions below:\n",
    "- Lookup Table\n",
    "- Tokenize Punctuation\n",
    "\n",
    "### Lookup Table\n",
    "To create a word embedding, you first need to transform the words to ids.  In this function, create two dictionaries:\n",
    "- Dictionary to go from the words to an id, we'll call `vocab_to_int`\n",
    "- Dictionary to go from the id to word, we'll call `int_to_vocab`\n",
    "\n",
    "Return these dictionaries in the following tuple `(vocab_to_int, int_to_vocab)`"
   ]
  },
  {
   "cell_type": "code",
   "execution_count": 3,
   "metadata": {
    "collapsed": false,
    "deletable": true,
    "editable": true
   },
   "outputs": [
    {
     "name": "stdout",
     "output_type": "stream",
     "text": [
      "Tests Passed\n"
     ]
    }
   ],
   "source": [
    "import numpy as np\n",
    "import problem_unittests as tests\n",
    "from collections import Counter\n",
    "\n",
    "def create_lookup_tables(text):\n",
    "    \"\"\"\n",
    "    Create lookup tables for vocabulary\n",
    "    :param text: The text of tv scripts split into words\n",
    "    :return: A tuple of dicts (vocab_to_int, int_to_vocab)\n",
    "    \"\"\"\n",
    "    # Create Counter from text\n",
    "    word_counts = Counter(text)\n",
    "    # Sort words\n",
    "    sorted_words = sorted(word_counts, key=word_counts.get, reverse=True)\n",
    "    # Create int-word tuples\n",
    "    int_to_vocab = {i: word for i, word in enumerate(sorted_words)}\n",
    "    # Create word-int tuples\n",
    "    vocab_to_int = {word: j for j, word in int_to_vocab.items()}\n",
    "    # Return both dicts\n",
    "    return vocab_to_int, int_to_vocab\n",
    "\n",
    "\n",
    "\"\"\"\n",
    "DON'T MODIFY ANYTHING IN THIS CELL THAT IS BELOW THIS LINE\n",
    "\"\"\"\n",
    "tests.test_create_lookup_tables(create_lookup_tables)"
   ]
  },
  {
   "cell_type": "markdown",
   "metadata": {
    "deletable": true,
    "editable": true
   },
   "source": [
    "### Tokenize Punctuation\n",
    "We'll be splitting the script into a word array using spaces as delimiters.  However, punctuations like periods and exclamation marks make it hard for the neural network to distinguish between the word \"bye\" and \"bye!\".\n",
    "\n",
    "Implement the function `token_lookup` to return a dict that will be used to tokenize symbols like \"!\" into \"||Exclamation_Mark||\".  Create a dictionary for the following symbols where the symbol is the key and value is the token:\n",
    "- Period ( . )\n",
    "- Comma ( , )\n",
    "- Quotation Mark ( \" )\n",
    "- Semicolon ( ; )\n",
    "- Exclamation mark ( ! )\n",
    "- Question mark ( ? )\n",
    "- Left Parentheses ( ( )\n",
    "- Right Parentheses ( ) )\n",
    "- Dash ( -- )\n",
    "- Return ( \\n )\n",
    "\n",
    "This dictionary will be used to token the symbols and add the delimiter (space) around it.  This separates the symbols as it's own word, making it easier for the neural network to predict on the next word. Make sure you don't use a token that could be confused as a word. Instead of using the token \"dash\", try using something like \"||dash||\"."
   ]
  },
  {
   "cell_type": "code",
   "execution_count": 4,
   "metadata": {
    "collapsed": false,
    "deletable": true,
    "editable": true
   },
   "outputs": [
    {
     "name": "stdout",
     "output_type": "stream",
     "text": [
      "Tests Passed\n"
     ]
    }
   ],
   "source": [
    "def token_lookup():\n",
    "    \"\"\"\n",
    "    Generate a dict to turn punctuation into a token.\n",
    "    :return: Tokenize dictionary where the key is the punctuation and the value is the token\n",
    "    \"\"\"\n",
    "    # TODO: Implement Function\n",
    "    \n",
    "    # Replace punctuation with tokens so we can use them in our model\n",
    "    token_dict = []\n",
    "    token_dict.append(['.','``PERIOD``'])\n",
    "    token_dict.append([',', '``COMMA``'])\n",
    "    token_dict.append(['\"', '``QUOTES``'])\n",
    "    token_dict.append([';', '``SEMICOLON``'])\n",
    "    token_dict.append(['!', '``EX_MARK``'])\n",
    "    token_dict.append(['?', '``Q_MARK``'])\n",
    "    token_dict.append(['(', '``BRACKET_OPEN``'])\n",
    "    token_dict.append([')', '``BRACKET_CLOSED``'])\n",
    "    token_dict.append(['--', '``2XHYPH``'])\n",
    "    token_dict.append(['\\n', '``RETURN``'])\n",
    "    token_dict = dict(token_dict)\n",
    "\n",
    "    return token_dict\n",
    "\n",
    "\"\"\"\n",
    "DON'T MODIFY ANYTHING IN THIS CELL THAT IS BELOW THIS LINE\n",
    "\"\"\"\n",
    "tests.test_tokenize(token_lookup)"
   ]
  },
  {
   "cell_type": "markdown",
   "metadata": {
    "deletable": true,
    "editable": true
   },
   "source": [
    "## Preprocess all the data and save it\n",
    "Running the code cell below will preprocess all the data and save it to file."
   ]
  },
  {
   "cell_type": "code",
   "execution_count": 5,
   "metadata": {
    "collapsed": false,
    "deletable": true,
    "editable": true
   },
   "outputs": [],
   "source": [
    "\"\"\"\n",
    "DON'T MODIFY ANYTHING IN THIS CELL\n",
    "\"\"\"\n",
    "# Preprocess Training, Validation, and Testing Data\n",
    "helper.preprocess_and_save_data(data_dir, token_lookup, create_lookup_tables)"
   ]
  },
  {
   "cell_type": "markdown",
   "metadata": {
    "deletable": true,
    "editable": true
   },
   "source": [
    "# Check Point\n",
    "This is your first checkpoint. If you ever decide to come back to this notebook or have to restart the notebook, you can start from here. The preprocessed data has been saved to disk."
   ]
  },
  {
   "cell_type": "code",
   "execution_count": 6,
   "metadata": {
    "collapsed": false,
    "deletable": true,
    "editable": true
   },
   "outputs": [],
   "source": [
    "\"\"\"\n",
    "DON'T MODIFY ANYTHING IN THIS CELL\n",
    "\"\"\"\n",
    "import helper\n",
    "import numpy as np\n",
    "import problem_unittests as tests\n",
    "\n",
    "int_text, vocab_to_int, int_to_vocab, token_dict = helper.load_preprocess()"
   ]
  },
  {
   "cell_type": "markdown",
   "metadata": {
    "deletable": true,
    "editable": true
   },
   "source": [
    "## Build the Neural Network\n",
    "You'll build the components necessary to build a RNN by implementing the following functions below:\n",
    "- get_inputs\n",
    "- get_init_cell\n",
    "- get_embed\n",
    "- build_rnn\n",
    "- build_nn\n",
    "- get_batches\n",
    "\n",
    "### Check the Version of TensorFlow and Access to GPU"
   ]
  },
  {
   "cell_type": "code",
   "execution_count": 7,
   "metadata": {
    "collapsed": false,
    "deletable": true,
    "editable": true
   },
   "outputs": [
    {
     "name": "stdout",
     "output_type": "stream",
     "text": [
      "TensorFlow Version: 1.0.0\n",
      "Default GPU Device: /gpu:0\n"
     ]
    }
   ],
   "source": [
    "\"\"\"\n",
    "DON'T MODIFY ANYTHING IN THIS CELL\n",
    "\"\"\"\n",
    "from distutils.version import LooseVersion\n",
    "import warnings\n",
    "import tensorflow as tf\n",
    "\n",
    "# Check TensorFlow Version\n",
    "assert LooseVersion(tf.__version__) >= LooseVersion('1.0'), 'Please use TensorFlow version 1.0 or newer'\n",
    "print('TensorFlow Version: {}'.format(tf.__version__))\n",
    "\n",
    "# Check for a GPU\n",
    "if not tf.test.gpu_device_name():\n",
    "    warnings.warn('No GPU found. Please use a GPU to train your neural network.')\n",
    "else:\n",
    "    print('Default GPU Device: {}'.format(tf.test.gpu_device_name()))"
   ]
  },
  {
   "cell_type": "markdown",
   "metadata": {
    "deletable": true,
    "editable": true
   },
   "source": [
    "### Input\n",
    "Implement the `get_inputs()` function to create TF Placeholders for the Neural Network.  It should create the following placeholders:\n",
    "- Input text placeholder named \"input\" using the [TF Placeholder](https://www.tensorflow.org/api_docs/python/tf/placeholder) `name` parameter.\n",
    "- Targets placeholder\n",
    "- Learning Rate placeholder\n",
    "\n",
    "Return the placeholders in the following the tuple `(Input, Targets, LearingRate)`"
   ]
  },
  {
   "cell_type": "code",
   "execution_count": 8,
   "metadata": {
    "collapsed": false,
    "deletable": true,
    "editable": true
   },
   "outputs": [
    {
     "name": "stdout",
     "output_type": "stream",
     "text": [
      "Tests Passed\n"
     ]
    }
   ],
   "source": [
    "def get_inputs():\n",
    "    \"\"\"\n",
    "    Create TF Placeholders for input, targets, and learning rate.\n",
    "    :return: Tuple (input, targets, learning rate)\n",
    "    \"\"\"\n",
    "    # TODO: Implement Function\n",
    "    inp = tf.placeholder(tf.int32, [None,None], name='input')\n",
    "    target = tf.placeholder(tf.int32, [None, None], name='target')\n",
    "    learning_rate = tf.placeholder(tf.float32, name = 'lr')\n",
    "    return inp, target, learning_rate\n",
    "\n",
    "\n",
    "\"\"\"\n",
    "DON'T MODIFY ANYTHING IN THIS CELL THAT IS BELOW THIS LINE\n",
    "\"\"\"\n",
    "tests.test_get_inputs(get_inputs)"
   ]
  },
  {
   "cell_type": "markdown",
   "metadata": {
    "deletable": true,
    "editable": true
   },
   "source": [
    "### Build RNN Cell and Initialize\n",
    "Stack one or more [`BasicLSTMCells`](https://www.tensorflow.org/api_docs/python/tf/contrib/rnn/BasicLSTMCell) in a [`MultiRNNCell`](https://www.tensorflow.org/api_docs/python/tf/contrib/rnn/MultiRNNCell).\n",
    "- The Rnn size should be set using `rnn_size`\n",
    "- Initalize Cell State using the MultiRNNCell's [`zero_state()`](https://www.tensorflow.org/api_docs/python/tf/contrib/rnn/MultiRNNCell#zero_state) function\n",
    "    - Apply the name \"initial_state\" to the initial state using [`tf.identity()`](https://www.tensorflow.org/api_docs/python/tf/identity)\n",
    "\n",
    "Return the cell and initial state in the following tuple `(Cell, InitialState)`"
   ]
  },
  {
   "cell_type": "code",
   "execution_count": 9,
   "metadata": {
    "collapsed": false,
    "deletable": true,
    "editable": true
   },
   "outputs": [
    {
     "name": "stdout",
     "output_type": "stream",
     "text": [
      "Tests Passed\n"
     ]
    }
   ],
   "source": [
    "def get_init_cell(batch_size, rnn_size):\n",
    "    \"\"\"\n",
    "    Create an RNN Cell and initialize it.\n",
    "    :param batch_size: Size of batches\n",
    "    :param rnn_size: Size of RNNs\n",
    "    :return: Tuple (cell, initialize state)\n",
    "    \"\"\"\n",
    "    # TODO: Implement Function\n",
    "    # Create a basic LSTM Cell to start building RNN\n",
    "    lstm_cell = tf.contrib.rnn.BasicLSTMCell(rnn_size)\n",
    "    dropout = tf.contrib.rnn.DropoutWrapper(lstm_cell, 0.5)\n",
    "    # Create RNN Cell with size \n",
    "    rnn_cell = tf.contrib.rnn.MultiRNNCell([dropout]*2)\n",
    "    \n",
    "    # Initialize the rnn cell with single precision fp zeros\n",
    "    init_state = tf.identity( \n",
    "        rnn_cell.zero_state( \n",
    "            batch_size,\n",
    "            tf.float32 ),\n",
    "        name='initial_state')\n",
    "    \n",
    "    return rnn_cell, init_state\n",
    "\n",
    "\n",
    "\"\"\"\n",
    "DON'T MODIFY ANYTHING IN THIS CELL THAT IS BELOW THIS LINE\n",
    "\"\"\"\n",
    "tests.test_get_init_cell(get_init_cell)"
   ]
  },
  {
   "cell_type": "markdown",
   "metadata": {
    "deletable": true,
    "editable": true
   },
   "source": [
    "### Word Embedding\n",
    "Apply embedding to `input_data` using TensorFlow.  Return the embedded sequence."
   ]
  },
  {
   "cell_type": "code",
   "execution_count": 10,
   "metadata": {
    "collapsed": false,
    "deletable": true,
    "editable": true
   },
   "outputs": [
    {
     "name": "stdout",
     "output_type": "stream",
     "text": [
      "Tests Passed\n"
     ]
    }
   ],
   "source": [
    "def get_embed(input_data, vocab_size, embed_dim):\n",
    "    \"\"\"\n",
    "    Create embedding for <input_data>.\n",
    "    :param input_data: TF placeholder for text input.\n",
    "    :param vocab_size: Number of words in vocabulary.\n",
    "    :param embed_dim: Number of embedding dimensions\n",
    "    :return: Embedded input.\n",
    "    \"\"\"\n",
    "    # TODO: Implement Function\n",
    "    # Create the Correctly Dimensioned TF variable\n",
    "    embedding = tf.Variable( \n",
    "        tf.random_uniform( \n",
    "            (vocab_size, embed_dim),\n",
    "            -1, 1) )\n",
    "    \n",
    "    # Embed the Input\n",
    "    embedded_input = tf.nn.embedding_lookup(\n",
    "        embedding,\n",
    "        input_data )\n",
    "    \n",
    "    return embedded_input\n",
    "\n",
    "\n",
    "\"\"\"\n",
    "DON'T MODIFY ANYTHING IN THIS CELL THAT IS BELOW THIS LINE\n",
    "\"\"\"\n",
    "tests.test_get_embed(get_embed)"
   ]
  },
  {
   "cell_type": "markdown",
   "metadata": {
    "deletable": true,
    "editable": true
   },
   "source": [
    "### Build RNN\n",
    "You created a RNN Cell in the `get_init_cell()` function.  Time to use the cell to create a RNN.\n",
    "- Build the RNN using the [`tf.nn.dynamic_rnn()`](https://www.tensorflow.org/api_docs/python/tf/nn/dynamic_rnn)\n",
    " - Apply the name \"final_state\" to the final state using [`tf.identity()`](https://www.tensorflow.org/api_docs/python/tf/identity)\n",
    "\n",
    "Return the outputs and final_state state in the following tuple `(Outputs, FinalState)` "
   ]
  },
  {
   "cell_type": "code",
   "execution_count": 11,
   "metadata": {
    "collapsed": false,
    "deletable": true,
    "editable": true
   },
   "outputs": [
    {
     "name": "stdout",
     "output_type": "stream",
     "text": [
      "Tests Passed\n"
     ]
    }
   ],
   "source": [
    "def build_rnn(cell, inputs):\n",
    "    \"\"\"\n",
    "    Create a RNN using a RNN Cell\n",
    "    :param cell: RNN Cell\n",
    "    :param inputs: Input text data\n",
    "    :return: Tuple (Outputs, Final State)\n",
    "    \"\"\"\n",
    "    # TODO: Implement Function\n",
    "    \n",
    "    # Build the RNN cell\n",
    "    outputs, final_state = tf.nn.dynamic_rnn(cell,inputs,dtype=tf.float32)\n",
    "    # Set Name as 'final_state'\n",
    "    final_state = tf.identity(final_state, name='final_state')\n",
    "    \n",
    "    return outputs, final_state\n",
    "\n",
    "\n",
    "\"\"\"\n",
    "DON'T MODIFY ANYTHING IN THIS CELL THAT IS BELOW THIS LINE\n",
    "\"\"\"\n",
    "tests.test_build_rnn(build_rnn)"
   ]
  },
  {
   "cell_type": "markdown",
   "metadata": {
    "deletable": true,
    "editable": true
   },
   "source": [
    "### Build the Neural Network\n",
    "Apply the functions you implemented above to:\n",
    "- Apply embedding to `input_data` using your `get_embed(input_data, vocab_size, embed_dim)` function.\n",
    "- Build RNN using `cell` and your `build_rnn(cell, inputs)` function.\n",
    "- Apply a fully connected layer with a linear activation and `vocab_size` as the number of outputs.\n",
    "\n",
    "Return the logits and final state in the following tuple (Logits, FinalState) "
   ]
  },
  {
   "cell_type": "code",
   "execution_count": 12,
   "metadata": {
    "collapsed": false,
    "deletable": true,
    "editable": true
   },
   "outputs": [
    {
     "name": "stdout",
     "output_type": "stream",
     "text": [
      "Tests Passed\n"
     ]
    }
   ],
   "source": [
    "def build_nn(cell, rnn_size, input_data, vocab_size):\n",
    "    \"\"\"\n",
    "    Build part of the neural network\n",
    "    :param cell: RNN cell\n",
    "    :param rnn_size: Size of rnns\n",
    "    :param input_data: Input data\n",
    "    :param vocab_size: Vocabulary size\n",
    "    :return: Tuple (Logits, FinalState)\n",
    "    \"\"\"\n",
    "    # TODO: Implement Function\n",
    "    # Get Embedded Inputs\n",
    "    embedded_input = get_embed(input_data,vocab_size,embed_dim = rnn_size)\n",
    "    \n",
    "    # Get RNN outputs\n",
    "    rnn_outputs, final_state = build_rnn(cell, embedded_input)\n",
    "\n",
    "    # Connect the Fully Connected Layer with outputs to vocab_size\n",
    "    logits = tf.contrib.layers.fully_connected(rnn_outputs,\n",
    "                                               vocab_size, \n",
    "                                               activation_fn=None, \n",
    "                                               weights_initializer = tf.truncated_normal_initializer(0.1),\n",
    "                                               biases_initializer=tf.zeros_initializer() )\n",
    "    \n",
    "    return logits, final_state\n",
    "\n",
    "\n",
    "\"\"\"\n",
    "DON'T MODIFY ANYTHING IN THIS CELL THAT IS BELOW THIS LINE\n",
    "\"\"\"\n",
    "tests.test_build_nn(build_nn)"
   ]
  },
  {
   "cell_type": "markdown",
   "metadata": {
    "deletable": true,
    "editable": true
   },
   "source": [
    "### Batches\n",
    "Implement `get_batches` to create batches of input and targets using `int_text`.  The batches should be a Numpy array with the shape `(number of batches, 2, batch size, sequence length)`. Each batch contains two elements:\n",
    "- The first element is a single batch of **input** with the shape `[batch size, sequence length]`\n",
    "- The second element is a single batch of **targets** with the shape `[batch size, sequence length]`\n",
    "\n",
    "If you can't fill the last batch with enough data, drop the last batch.\n",
    "\n",
    "For exmple, `get_batches([1, 2, 3, 4, 5, 6, 7, 8, 9, 10, 11, 12, 13, 14, 15], 2, 3)` would return a Numpy array of the following:\n",
    "```\n",
    "[\n",
    "  # First Batch\n",
    "  [\n",
    "    # Batch of Input\n",
    "    [[ 1  2  3], [ 7  8  9]],\n",
    "    # Batch of targets\n",
    "    [[ 2  3  4], [ 8  9 10]]\n",
    "  ],\n",
    " \n",
    "  # Second Batch\n",
    "  [\n",
    "    # Batch of Input\n",
    "    [[ 4  5  6], [10 11 12]],\n",
    "    # Batch of targets\n",
    "    [[ 5  6  7], [11 12 13]]\n",
    "  ]\n",
    "]\n",
    "```"
   ]
  },
  {
   "cell_type": "code",
   "execution_count": 13,
   "metadata": {
    "collapsed": false,
    "deletable": true,
    "editable": true
   },
   "outputs": [
    {
     "name": "stdout",
     "output_type": "stream",
     "text": [
      "Tests Passed\n"
     ]
    }
   ],
   "source": [
    "def get_batches(int_text, batch_size, seq_length):\n",
    "    \"\"\"\n",
    "    Return batches of input and target\n",
    "    :param int_text: Text with the words replaced by their ids\n",
    "    :param batch_size: The size of batch\n",
    "    :param seq_length: The length of sequence\n",
    "    :return: Batches as a Numpy array\n",
    "    \"\"\"\n",
    "    # TODO: Implement Function\n",
    "\n",
    "    # Calculate The Total Number of batches (floored to highest divisible integer)\n",
    "    num_batches = len(int_text)//(batch_size*seq_length)\n",
    "    \n",
    "    inp_data = np.array(int_text[: num_batches * batch_size * seq_length])\n",
    "    target_data =  np.array(int_text[1: num_batches * batch_size * seq_length + 1])\n",
    "    \n",
    "    input_batches = np.split(inp_data.reshape(batch_size, -1), num_batches, 1)\n",
    "    target_batches = np.split(target_data.reshape(batch_size, -1), num_batches, 1)\n",
    "    \n",
    "    batches = np.array(list(zip(input_batches, target_batches)))   \n",
    "    \n",
    "    return batches\n",
    "\n",
    "\n",
    "\"\"\"\n",
    "DON'T MODIFY ANYTHING IN THIS CELL THAT IS BELOW THIS LINE\n",
    "\"\"\"\n",
    "tests.test_get_batches(get_batches)"
   ]
  },
  {
   "cell_type": "markdown",
   "metadata": {
    "deletable": true,
    "editable": true
   },
   "source": [
    "## Neural Network Training\n",
    "### Hyperparameters\n",
    "Tune the following parameters:\n",
    "\n",
    "- Set `num_epochs` to the number of epochs.\n",
    "- Set `batch_size` to the batch size.\n",
    "- Set `rnn_size` to the size of the RNNs.\n",
    "- Set `seq_length` to the length of sequence.\n",
    "- Set `learning_rate` to the learning rate.\n",
    "- Set `show_every_n_batches` to the number of batches the neural network should print progress."
   ]
  },
  {
   "cell_type": "code",
   "execution_count": 14,
   "metadata": {
    "collapsed": true,
    "deletable": true,
    "editable": true
   },
   "outputs": [],
   "source": [
    "# Number of Epochs\n",
    "num_epochs = 250\n",
    "# Batch Size\n",
    "batch_size = 16\n",
    "# RNN Size\n",
    "rnn_size = 512\n",
    "# Sequence Length\n",
    "seq_length = 16\n",
    "# Learning Rate\n",
    "learning_rate = 0.001\n",
    "# Show stats for every n number of batches\n",
    "show_every_n_batches = 100\n",
    "\n",
    "\"\"\"\n",
    "DON'T MODIFY ANYTHING IN THIS CELL THAT IS BELOW THIS LINE\n",
    "\"\"\"\n",
    "save_dir = './save'"
   ]
  },
  {
   "cell_type": "markdown",
   "metadata": {
    "deletable": true,
    "editable": true
   },
   "source": [
    "### Build the Graph\n",
    "Build the graph using the neural network you implemented."
   ]
  },
  {
   "cell_type": "code",
   "execution_count": 15,
   "metadata": {
    "collapsed": false,
    "deletable": true,
    "editable": true
   },
   "outputs": [],
   "source": [
    "\"\"\"\n",
    "DON'T MODIFY ANYTHING IN THIS CELL\n",
    "\"\"\"\n",
    "from tensorflow.contrib import seq2seq\n",
    "\n",
    "train_graph = tf.Graph()\n",
    "with train_graph.as_default():\n",
    "    vocab_size = len(int_to_vocab)\n",
    "    input_text, targets, lr = get_inputs()\n",
    "    input_data_shape = tf.shape(input_text)\n",
    "    cell, initial_state = get_init_cell(input_data_shape[0], rnn_size)\n",
    "    logits, final_state = build_nn(cell, rnn_size, input_text, vocab_size)\n",
    "\n",
    "    # Probabilities for generating words\n",
    "    probs = tf.nn.softmax(logits, name='probs')\n",
    "\n",
    "    # Loss function\n",
    "    cost = seq2seq.sequence_loss(\n",
    "        logits,\n",
    "        targets,\n",
    "        tf.ones([input_data_shape[0], input_data_shape[1]]))\n",
    "\n",
    "    # Optimizer\n",
    "    optimizer = tf.train.AdamOptimizer(lr)\n",
    "\n",
    "    # Gradient Clipping\n",
    "    gradients = optimizer.compute_gradients(cost)\n",
    "    capped_gradients = [(tf.clip_by_value(grad, -1., 1.), var) for grad, var in gradients]\n",
    "    train_op = optimizer.apply_gradients(capped_gradients)"
   ]
  },
  {
   "cell_type": "markdown",
   "metadata": {
    "deletable": true,
    "editable": true
   },
   "source": [
    "## Train\n",
    "Train the neural network on the preprocessed data.  If you have a hard time getting a good loss, check the [forms](https://discussions.udacity.com/) to see if anyone is having the same problem."
   ]
  },
  {
   "cell_type": "code",
   "execution_count": null,
   "metadata": {
    "collapsed": false,
    "deletable": true,
    "editable": true
   },
   "outputs": [
    {
     "name": "stdout",
     "output_type": "stream",
     "text": [
      "Epoch   0 Batch    0/269   train_loss = 9.580\n",
      "Epoch   0 Batch  100/269   train_loss = 6.125\n",
      "Epoch   0 Batch  200/269   train_loss = 5.704\n",
      "Epoch   1 Batch   31/269   train_loss = 5.457\n",
      "Epoch   1 Batch  131/269   train_loss = 4.992\n",
      "Epoch   1 Batch  231/269   train_loss = 5.011\n",
      "Epoch   2 Batch   62/269   train_loss = 4.838\n",
      "Epoch   2 Batch  162/269   train_loss = 5.138\n",
      "Epoch   2 Batch  262/269   train_loss = 5.032\n",
      "Epoch   3 Batch   93/269   train_loss = 5.022\n",
      "Epoch   3 Batch  193/269   train_loss = 4.605\n",
      "Epoch   4 Batch   24/269   train_loss = 4.342\n",
      "Epoch   4 Batch  124/269   train_loss = 4.584\n",
      "Epoch   4 Batch  224/269   train_loss = 4.167\n",
      "Epoch   5 Batch   55/269   train_loss = 4.235\n",
      "Epoch   5 Batch  155/269   train_loss = 4.463\n",
      "Epoch   5 Batch  255/269   train_loss = 4.054\n",
      "Epoch   6 Batch   86/269   train_loss = 4.345\n",
      "Epoch   6 Batch  186/269   train_loss = 4.012\n",
      "Epoch   7 Batch   17/269   train_loss = 4.089\n",
      "Epoch   7 Batch  117/269   train_loss = 4.069\n",
      "Epoch   7 Batch  217/269   train_loss = 4.238\n",
      "Epoch   8 Batch   48/269   train_loss = 4.039\n",
      "Epoch   8 Batch  148/269   train_loss = 3.928\n",
      "Epoch   8 Batch  248/269   train_loss = 3.602\n",
      "Epoch   9 Batch   79/269   train_loss = 3.495\n",
      "Epoch   9 Batch  179/269   train_loss = 3.678\n",
      "Epoch  10 Batch   10/269   train_loss = 3.711\n",
      "Epoch  10 Batch  110/269   train_loss = 3.333\n",
      "Epoch  10 Batch  210/269   train_loss = 3.567\n",
      "Epoch  11 Batch   41/269   train_loss = 3.409\n",
      "Epoch  11 Batch  141/269   train_loss = 3.198\n",
      "Epoch  11 Batch  241/269   train_loss = 3.385\n",
      "Epoch  12 Batch   72/269   train_loss = 3.013\n",
      "Epoch  12 Batch  172/269   train_loss = 3.144\n",
      "Epoch  13 Batch    3/269   train_loss = 3.201\n",
      "Epoch  13 Batch  103/269   train_loss = 2.698\n",
      "Epoch  13 Batch  203/269   train_loss = 2.917\n",
      "Epoch  14 Batch   34/269   train_loss = 2.979\n",
      "Epoch  14 Batch  134/269   train_loss = 2.649\n",
      "Epoch  14 Batch  234/269   train_loss = 2.905\n",
      "Epoch  15 Batch   65/269   train_loss = 3.030\n",
      "Epoch  15 Batch  165/269   train_loss = 2.530\n",
      "Epoch  15 Batch  265/269   train_loss = 2.654\n",
      "Epoch  16 Batch   96/269   train_loss = 2.710\n",
      "Epoch  16 Batch  196/269   train_loss = 2.317\n",
      "Epoch  17 Batch   27/269   train_loss = 2.419\n",
      "Epoch  17 Batch  127/269   train_loss = 2.288\n",
      "Epoch  17 Batch  227/269   train_loss = 2.410\n",
      "Epoch  18 Batch   58/269   train_loss = 2.094\n",
      "Epoch  18 Batch  158/269   train_loss = 2.424\n",
      "Epoch  18 Batch  258/269   train_loss = 2.128\n",
      "Epoch  19 Batch   89/269   train_loss = 2.154\n",
      "Epoch  19 Batch  189/269   train_loss = 2.231\n",
      "Epoch  20 Batch   20/269   train_loss = 1.970\n",
      "Epoch  20 Batch  120/269   train_loss = 1.998\n",
      "Epoch  20 Batch  220/269   train_loss = 2.193\n",
      "Epoch  21 Batch   51/269   train_loss = 2.127\n",
      "Epoch  21 Batch  151/269   train_loss = 1.772\n",
      "Epoch  21 Batch  251/269   train_loss = 2.092\n",
      "Epoch  22 Batch   82/269   train_loss = 1.959\n",
      "Epoch  22 Batch  182/269   train_loss = 1.768\n",
      "Epoch  23 Batch   13/269   train_loss = 1.591\n",
      "Epoch  23 Batch  113/269   train_loss = 1.664\n",
      "Epoch  23 Batch  213/269   train_loss = 1.961\n",
      "Epoch  24 Batch   44/269   train_loss = 1.652\n",
      "Epoch  24 Batch  144/269   train_loss = 1.670\n",
      "Epoch  24 Batch  244/269   train_loss = 1.659\n",
      "Epoch  25 Batch   75/269   train_loss = 1.661\n",
      "Epoch  25 Batch  175/269   train_loss = 1.450\n",
      "Epoch  26 Batch    6/269   train_loss = 1.693\n",
      "Epoch  26 Batch  106/269   train_loss = 1.589\n",
      "Epoch  26 Batch  206/269   train_loss = 1.401\n",
      "Epoch  27 Batch   37/269   train_loss = 1.546\n",
      "Epoch  27 Batch  137/269   train_loss = 1.466\n",
      "Epoch  27 Batch  237/269   train_loss = 1.702\n",
      "Epoch  28 Batch   68/269   train_loss = 1.726\n",
      "Epoch  28 Batch  168/269   train_loss = 1.627\n",
      "Epoch  28 Batch  268/269   train_loss = 1.534\n",
      "Epoch  29 Batch   99/269   train_loss = 1.650\n",
      "Epoch  29 Batch  199/269   train_loss = 1.514\n",
      "Epoch  30 Batch   30/269   train_loss = 1.269\n",
      "Epoch  30 Batch  130/269   train_loss = 1.225\n",
      "Epoch  30 Batch  230/269   train_loss = 1.509\n",
      "Epoch  31 Batch   61/269   train_loss = 1.411\n",
      "Epoch  31 Batch  161/269   train_loss = 1.324\n",
      "Epoch  31 Batch  261/269   train_loss = 1.157\n",
      "Epoch  32 Batch   92/269   train_loss = 1.346\n",
      "Epoch  32 Batch  192/269   train_loss = 1.222\n",
      "Epoch  33 Batch   23/269   train_loss = 1.340\n",
      "Epoch  33 Batch  123/269   train_loss = 1.244\n",
      "Epoch  33 Batch  223/269   train_loss = 1.296\n",
      "Epoch  34 Batch   54/269   train_loss = 1.296\n",
      "Epoch  34 Batch  154/269   train_loss = 1.191\n",
      "Epoch  34 Batch  254/269   train_loss = 1.166\n",
      "Epoch  35 Batch   85/269   train_loss = 1.226\n",
      "Epoch  35 Batch  185/269   train_loss = 1.420\n",
      "Epoch  36 Batch   16/269   train_loss = 1.243\n",
      "Epoch  36 Batch  116/269   train_loss = 1.098\n",
      "Epoch  36 Batch  216/269   train_loss = 1.075\n",
      "Epoch  37 Batch   47/269   train_loss = 1.228\n",
      "Epoch  37 Batch  147/269   train_loss = 1.196\n",
      "Epoch  37 Batch  247/269   train_loss = 1.032\n",
      "Epoch  38 Batch   78/269   train_loss = 1.108\n",
      "Epoch  38 Batch  178/269   train_loss = 1.017\n",
      "Epoch  39 Batch    9/269   train_loss = 1.142\n",
      "Epoch  39 Batch  109/269   train_loss = 1.061\n",
      "Epoch  39 Batch  209/269   train_loss = 1.081\n",
      "Epoch  40 Batch   40/269   train_loss = 1.107\n",
      "Epoch  40 Batch  140/269   train_loss = 0.996\n",
      "Epoch  40 Batch  240/269   train_loss = 1.051\n",
      "Epoch  41 Batch   71/269   train_loss = 1.067\n",
      "Epoch  41 Batch  171/269   train_loss = 1.054\n",
      "Epoch  42 Batch    2/269   train_loss = 1.169\n",
      "Epoch  42 Batch  102/269   train_loss = 0.841\n",
      "Epoch  42 Batch  202/269   train_loss = 0.985\n",
      "Epoch  43 Batch   33/269   train_loss = 1.040\n",
      "Epoch  43 Batch  133/269   train_loss = 0.908\n",
      "Epoch  43 Batch  233/269   train_loss = 0.999\n",
      "Epoch  44 Batch   64/269   train_loss = 1.002\n",
      "Epoch  44 Batch  164/269   train_loss = 0.983\n",
      "Epoch  44 Batch  264/269   train_loss = 0.811\n",
      "Epoch  45 Batch   95/269   train_loss = 0.931\n",
      "Epoch  45 Batch  195/269   train_loss = 0.892\n",
      "Epoch  46 Batch   26/269   train_loss = 0.847\n",
      "Epoch  46 Batch  126/269   train_loss = 0.823\n",
      "Epoch  46 Batch  226/269   train_loss = 0.803\n",
      "Epoch  47 Batch   57/269   train_loss = 0.747\n",
      "Epoch  47 Batch  157/269   train_loss = 0.911\n",
      "Epoch  47 Batch  257/269   train_loss = 0.882\n",
      "Epoch  48 Batch   88/269   train_loss = 0.810\n",
      "Epoch  48 Batch  188/269   train_loss = 0.892\n",
      "Epoch  49 Batch   19/269   train_loss = 0.847\n",
      "Epoch  49 Batch  119/269   train_loss = 0.901\n",
      "Epoch  49 Batch  219/269   train_loss = 0.917\n",
      "Epoch  50 Batch   50/269   train_loss = 0.767\n",
      "Epoch  50 Batch  150/269   train_loss = 0.839\n",
      "Epoch  50 Batch  250/269   train_loss = 0.929\n",
      "Epoch  51 Batch   81/269   train_loss = 0.929\n",
      "Epoch  51 Batch  181/269   train_loss = 0.822\n",
      "Epoch  52 Batch   12/269   train_loss = 0.793\n",
      "Epoch  52 Batch  112/269   train_loss = 0.927\n",
      "Epoch  52 Batch  212/269   train_loss = 0.878\n",
      "Epoch  53 Batch   43/269   train_loss = 0.713\n",
      "Epoch  53 Batch  143/269   train_loss = 0.788\n",
      "Epoch  53 Batch  243/269   train_loss = 0.817\n",
      "Epoch  54 Batch   74/269   train_loss = 0.787\n",
      "Epoch  54 Batch  174/269   train_loss = 0.781\n",
      "Epoch  55 Batch    5/269   train_loss = 0.755\n",
      "Epoch  55 Batch  105/269   train_loss = 0.797\n",
      "Epoch  55 Batch  205/269   train_loss = 0.714\n",
      "Epoch  56 Batch   36/269   train_loss = 0.722\n",
      "Epoch  56 Batch  136/269   train_loss = 0.676\n",
      "Epoch  56 Batch  236/269   train_loss = 0.884\n",
      "Epoch  57 Batch   67/269   train_loss = 0.746\n",
      "Epoch  57 Batch  167/269   train_loss = 0.600\n",
      "Epoch  57 Batch  267/269   train_loss = 0.643\n",
      "Epoch  58 Batch   98/269   train_loss = 0.679\n",
      "Epoch  58 Batch  198/269   train_loss = 0.783\n",
      "Epoch  59 Batch   29/269   train_loss = 0.684\n",
      "Epoch  59 Batch  129/269   train_loss = 0.709\n",
      "Epoch  59 Batch  229/269   train_loss = 0.755\n",
      "Epoch  60 Batch   60/269   train_loss = 0.603\n",
      "Epoch  60 Batch  160/269   train_loss = 0.795\n",
      "Epoch  60 Batch  260/269   train_loss = 0.693\n",
      "Epoch  61 Batch   91/269   train_loss = 0.729\n",
      "Epoch  61 Batch  191/269   train_loss = 0.720\n",
      "Epoch  62 Batch   22/269   train_loss = 0.729\n",
      "Epoch  62 Batch  122/269   train_loss = 0.634\n",
      "Epoch  62 Batch  222/269   train_loss = 0.749\n",
      "Epoch  63 Batch   53/269   train_loss = 0.725\n",
      "Epoch  63 Batch  153/269   train_loss = 0.708\n",
      "Epoch  63 Batch  253/269   train_loss = 0.688\n",
      "Epoch  64 Batch   84/269   train_loss = 0.775\n",
      "Epoch  64 Batch  184/269   train_loss = 0.840\n",
      "Epoch  65 Batch   15/269   train_loss = 0.699\n",
      "Epoch  65 Batch  115/269   train_loss = 0.743\n",
      "Epoch  65 Batch  215/269   train_loss = 0.665\n",
      "Epoch  66 Batch   46/269   train_loss = 0.672\n",
      "Epoch  66 Batch  146/269   train_loss = 0.570\n",
      "Epoch  66 Batch  246/269   train_loss = 0.656\n",
      "Epoch  67 Batch   77/269   train_loss = 0.685\n",
      "Epoch  67 Batch  177/269   train_loss = 0.736\n",
      "Epoch  68 Batch    8/269   train_loss = 0.636\n",
      "Epoch  68 Batch  108/269   train_loss = 0.608\n",
      "Epoch  68 Batch  208/269   train_loss = 0.786\n",
      "Epoch  69 Batch   39/269   train_loss = 0.574\n",
      "Epoch  69 Batch  139/269   train_loss = 0.684\n",
      "Epoch  69 Batch  239/269   train_loss = 0.604\n",
      "Epoch  70 Batch   70/269   train_loss = 0.678\n",
      "Epoch  70 Batch  170/269   train_loss = 0.697\n",
      "Epoch  71 Batch    1/269   train_loss = 0.729\n",
      "Epoch  71 Batch  101/269   train_loss = 0.616\n",
      "Epoch  71 Batch  201/269   train_loss = 0.683\n",
      "Epoch  72 Batch   32/269   train_loss = 0.631\n",
      "Epoch  72 Batch  132/269   train_loss = 0.585\n",
      "Epoch  72 Batch  232/269   train_loss = 0.571\n",
      "Epoch  73 Batch   63/269   train_loss = 0.608\n",
      "Epoch  73 Batch  163/269   train_loss = 0.658\n",
      "Epoch  73 Batch  263/269   train_loss = 0.577\n",
      "Epoch  74 Batch   94/269   train_loss = 0.486\n",
      "Epoch  74 Batch  194/269   train_loss = 0.672\n",
      "Epoch  75 Batch   25/269   train_loss = 0.736\n",
      "Epoch  75 Batch  125/269   train_loss = 0.727\n",
      "Epoch  75 Batch  225/269   train_loss = 0.647\n",
      "Epoch  76 Batch   56/269   train_loss = 0.587\n",
      "Epoch  76 Batch  156/269   train_loss = 0.603\n",
      "Epoch  76 Batch  256/269   train_loss = 0.685\n",
      "Epoch  77 Batch   87/269   train_loss = 0.592\n",
      "Epoch  77 Batch  187/269   train_loss = 0.687\n",
      "Epoch  78 Batch   18/269   train_loss = 0.569\n",
      "Epoch  78 Batch  118/269   train_loss = 0.579\n",
      "Epoch  78 Batch  218/269   train_loss = 0.581\n",
      "Epoch  79 Batch   49/269   train_loss = 0.637\n",
      "Epoch  79 Batch  149/269   train_loss = 0.585\n",
      "Epoch  79 Batch  249/269   train_loss = 0.632\n",
      "Epoch  80 Batch   80/269   train_loss = 0.578\n",
      "Epoch  80 Batch  180/269   train_loss = 0.629\n",
      "Epoch  81 Batch   11/269   train_loss = 0.629\n",
      "Epoch  81 Batch  111/269   train_loss = 0.607\n",
      "Epoch  81 Batch  211/269   train_loss = 0.494\n",
      "Epoch  82 Batch   42/269   train_loss = 0.643\n",
      "Epoch  82 Batch  142/269   train_loss = 0.474\n",
      "Epoch  82 Batch  242/269   train_loss = 0.590\n",
      "Epoch  83 Batch   73/269   train_loss = 0.535\n",
      "Epoch  83 Batch  173/269   train_loss = 0.545\n",
      "Epoch  84 Batch    4/269   train_loss = 0.580\n",
      "Epoch  84 Batch  104/269   train_loss = 0.606\n",
      "Epoch  84 Batch  204/269   train_loss = 0.541\n",
      "Epoch  85 Batch   35/269   train_loss = 0.507\n",
      "Epoch  85 Batch  135/269   train_loss = 0.468\n",
      "Epoch  85 Batch  235/269   train_loss = 0.625\n",
      "Epoch  86 Batch   66/269   train_loss = 0.532\n",
      "Epoch  86 Batch  166/269   train_loss = 0.560\n",
      "Epoch  86 Batch  266/269   train_loss = 0.548\n",
      "Epoch  87 Batch   97/269   train_loss = 0.608\n",
      "Epoch  87 Batch  197/269   train_loss = 0.548\n",
      "Epoch  88 Batch   28/269   train_loss = 0.571\n",
      "Epoch  88 Batch  128/269   train_loss = 0.589\n",
      "Epoch  88 Batch  228/269   train_loss = 0.530\n",
      "Epoch  89 Batch   59/269   train_loss = 0.568\n",
      "Epoch  89 Batch  159/269   train_loss = 0.425\n",
      "Epoch  89 Batch  259/269   train_loss = 0.512\n",
      "Epoch  90 Batch   90/269   train_loss = 0.506\n",
      "Epoch  90 Batch  190/269   train_loss = 0.500\n",
      "Epoch  91 Batch   21/269   train_loss = 0.623\n",
      "Epoch  91 Batch  121/269   train_loss = 0.649\n",
      "Epoch  91 Batch  221/269   train_loss = 0.603\n",
      "Epoch  92 Batch   52/269   train_loss = 0.548\n",
      "Epoch  92 Batch  152/269   train_loss = 0.489\n",
      "Epoch  92 Batch  252/269   train_loss = 0.605\n",
      "Epoch  93 Batch   83/269   train_loss = 0.481\n",
      "Epoch  93 Batch  183/269   train_loss = 0.507\n",
      "Epoch  94 Batch   14/269   train_loss = 0.495\n",
      "Epoch  94 Batch  114/269   train_loss = 0.487\n",
      "Epoch  94 Batch  214/269   train_loss = 0.488\n",
      "Epoch  95 Batch   45/269   train_loss = 0.615\n",
      "Epoch  95 Batch  145/269   train_loss = 0.496\n",
      "Epoch  95 Batch  245/269   train_loss = 0.466\n",
      "Epoch  96 Batch   76/269   train_loss = 0.566\n",
      "Epoch  96 Batch  176/269   train_loss = 0.553\n",
      "Epoch  97 Batch    7/269   train_loss = 0.592\n",
      "Epoch  97 Batch  107/269   train_loss = 0.465\n",
      "Epoch  97 Batch  207/269   train_loss = 0.455\n",
      "Epoch  98 Batch   38/269   train_loss = 0.437\n",
      "Epoch  98 Batch  138/269   train_loss = 0.540\n",
      "Epoch  98 Batch  238/269   train_loss = 0.403\n",
      "Epoch  99 Batch   69/269   train_loss = 0.485\n",
      "Epoch  99 Batch  169/269   train_loss = 0.488\n",
      "Epoch 100 Batch    0/269   train_loss = 0.434\n",
      "Epoch 100 Batch  100/269   train_loss = 0.548\n",
      "Epoch 100 Batch  200/269   train_loss = 0.353\n",
      "Epoch 101 Batch   31/269   train_loss = 0.387\n",
      "Epoch 101 Batch  131/269   train_loss = 0.454\n",
      "Epoch 101 Batch  231/269   train_loss = 0.492\n",
      "Epoch 102 Batch   62/269   train_loss = 0.492\n",
      "Epoch 102 Batch  162/269   train_loss = 0.479\n",
      "Epoch 102 Batch  262/269   train_loss = 0.557\n",
      "Epoch 103 Batch   93/269   train_loss = 0.433\n",
      "Epoch 103 Batch  193/269   train_loss = 0.603\n",
      "Epoch 104 Batch   24/269   train_loss = 0.533\n",
      "Epoch 104 Batch  124/269   train_loss = 0.521\n",
      "Epoch 104 Batch  224/269   train_loss = 0.417\n",
      "Epoch 105 Batch   55/269   train_loss = 0.497\n",
      "Epoch 105 Batch  155/269   train_loss = 0.507\n",
      "Epoch 105 Batch  255/269   train_loss = 0.497\n",
      "Epoch 106 Batch   86/269   train_loss = 0.397\n",
      "Epoch 106 Batch  186/269   train_loss = 0.400\n",
      "Epoch 107 Batch   17/269   train_loss = 0.561\n",
      "Epoch 107 Batch  117/269   train_loss = 0.437\n",
      "Epoch 107 Batch  217/269   train_loss = 0.372\n",
      "Epoch 108 Batch   48/269   train_loss = 0.422\n",
      "Epoch 108 Batch  148/269   train_loss = 0.507\n",
      "Epoch 108 Batch  248/269   train_loss = 0.489\n",
      "Epoch 109 Batch   79/269   train_loss = 0.488\n",
      "Epoch 109 Batch  179/269   train_loss = 0.474\n",
      "Epoch 110 Batch   10/269   train_loss = 0.541\n",
      "Epoch 110 Batch  110/269   train_loss = 0.497\n",
      "Epoch 110 Batch  210/269   train_loss = 0.458\n",
      "Epoch 111 Batch   41/269   train_loss = 0.451\n",
      "Epoch 111 Batch  141/269   train_loss = 0.623\n",
      "Epoch 111 Batch  241/269   train_loss = 0.525\n",
      "Epoch 112 Batch   72/269   train_loss = 0.495\n",
      "Epoch 112 Batch  172/269   train_loss = 0.499\n",
      "Epoch 113 Batch    3/269   train_loss = 0.400\n",
      "Epoch 113 Batch  103/269   train_loss = 0.446\n",
      "Epoch 113 Batch  203/269   train_loss = 0.385\n",
      "Epoch 114 Batch   34/269   train_loss = 0.489\n",
      "Epoch 114 Batch  134/269   train_loss = 0.482\n",
      "Epoch 114 Batch  234/269   train_loss = 0.410\n",
      "Epoch 115 Batch   65/269   train_loss = 0.424\n",
      "Epoch 115 Batch  165/269   train_loss = 0.465\n",
      "Epoch 115 Batch  265/269   train_loss = 0.452\n",
      "Epoch 116 Batch   96/269   train_loss = 0.474\n",
      "Epoch 116 Batch  196/269   train_loss = 0.525\n",
      "Epoch 117 Batch   27/269   train_loss = 0.546\n",
      "Epoch 117 Batch  127/269   train_loss = 0.419\n",
      "Epoch 117 Batch  227/269   train_loss = 0.352\n",
      "Epoch 118 Batch   58/269   train_loss = 0.549\n",
      "Epoch 118 Batch  158/269   train_loss = 0.428\n",
      "Epoch 118 Batch  258/269   train_loss = 0.509\n",
      "Epoch 119 Batch   89/269   train_loss = 0.454\n",
      "Epoch 119 Batch  189/269   train_loss = 0.452\n",
      "Epoch 120 Batch   20/269   train_loss = 0.412\n",
      "Epoch 120 Batch  120/269   train_loss = 0.530\n",
      "Epoch 120 Batch  220/269   train_loss = 0.462\n",
      "Epoch 121 Batch   51/269   train_loss = 0.459\n",
      "Epoch 121 Batch  151/269   train_loss = 0.443\n",
      "Epoch 121 Batch  251/269   train_loss = 0.479\n",
      "Epoch 122 Batch   82/269   train_loss = 0.539\n",
      "Epoch 122 Batch  182/269   train_loss = 0.387\n",
      "Epoch 123 Batch   13/269   train_loss = 0.444\n",
      "Epoch 123 Batch  113/269   train_loss = 0.412\n",
      "Epoch 123 Batch  213/269   train_loss = 0.321\n",
      "Epoch 124 Batch   44/269   train_loss = 0.381\n",
      "Epoch 124 Batch  144/269   train_loss = 0.524\n",
      "Epoch 124 Batch  244/269   train_loss = 0.540\n",
      "Epoch 125 Batch   75/269   train_loss = 0.515\n",
      "Epoch 125 Batch  175/269   train_loss = 0.409\n",
      "Epoch 126 Batch    6/269   train_loss = 0.423\n",
      "Epoch 126 Batch  106/269   train_loss = 0.350\n",
      "Epoch 126 Batch  206/269   train_loss = 0.475\n",
      "Epoch 127 Batch   37/269   train_loss = 0.399\n",
      "Epoch 127 Batch  137/269   train_loss = 0.401\n",
      "Epoch 127 Batch  237/269   train_loss = 0.450\n",
      "Epoch 128 Batch   68/269   train_loss = 0.473\n",
      "Epoch 128 Batch  168/269   train_loss = 0.481\n",
      "Epoch 128 Batch  268/269   train_loss = 0.435\n",
      "Epoch 129 Batch   99/269   train_loss = 0.543\n",
      "Epoch 129 Batch  199/269   train_loss = 0.453\n",
      "Epoch 130 Batch   30/269   train_loss = 0.311\n",
      "Epoch 130 Batch  130/269   train_loss = 0.416\n",
      "Epoch 130 Batch  230/269   train_loss = 0.385\n"
     ]
    }
   ],
   "source": [
    "\"\"\"\n",
    "DON'T MODIFY ANYTHING IN THIS CELL\n",
    "\"\"\"\n",
    "batches = get_batches(int_text, batch_size, seq_length)\n",
    "\n",
    "with tf.Session(graph=train_graph) as sess:\n",
    "    sess.run(tf.global_variables_initializer())\n",
    "\n",
    "    for epoch_i in range(num_epochs):\n",
    "        state = sess.run(initial_state, {input_text: batches[0][0]})\n",
    "\n",
    "        for batch_i, (x, y) in enumerate(batches):\n",
    "            feed = {\n",
    "                input_text: x,\n",
    "                targets: y,\n",
    "                initial_state: state,\n",
    "                lr: learning_rate}\n",
    "            train_loss, state, _ = sess.run([cost, final_state, train_op], feed)\n",
    "\n",
    "            # Show every <show_every_n_batches> batches\n",
    "            if (epoch_i * len(batches) + batch_i) % show_every_n_batches == 0:\n",
    "                print('Epoch {:>3} Batch {:>4}/{}   train_loss = {:.3f}'.format(\n",
    "                    epoch_i,\n",
    "                    batch_i,\n",
    "                    len(batches),\n",
    "                    train_loss))\n",
    "\n",
    "    # Save Model\n",
    "    saver = tf.train.Saver()\n",
    "    saver.save(sess, save_dir)\n",
    "    print('Model Trained and Saved')"
   ]
  },
  {
   "cell_type": "markdown",
   "metadata": {
    "deletable": true,
    "editable": true
   },
   "source": [
    "## Save Parameters\n",
    "Save `seq_length` and `save_dir` for generating a new TV script."
   ]
  },
  {
   "cell_type": "code",
   "execution_count": 17,
   "metadata": {
    "collapsed": false,
    "deletable": true,
    "editable": true
   },
   "outputs": [],
   "source": [
    "\"\"\"\n",
    "DON'T MODIFY ANYTHING IN THIS CELL\n",
    "\"\"\"\n",
    "# Save parameters for checkpoint\n",
    "helper.save_params((seq_length, save_dir))"
   ]
  },
  {
   "cell_type": "markdown",
   "metadata": {
    "deletable": true,
    "editable": true
   },
   "source": [
    "# Checkpoint"
   ]
  },
  {
   "cell_type": "code",
   "execution_count": 18,
   "metadata": {
    "collapsed": false,
    "deletable": true,
    "editable": true
   },
   "outputs": [],
   "source": [
    "\"\"\"\n",
    "DON'T MODIFY ANYTHING IN THIS CELL\n",
    "\"\"\"\n",
    "import tensorflow as tf\n",
    "import numpy as np\n",
    "import helper\n",
    "import problem_unittests as tests\n",
    "\n",
    "_, vocab_to_int, int_to_vocab, token_dict = helper.load_preprocess()\n",
    "seq_length, load_dir = helper.load_params()"
   ]
  },
  {
   "cell_type": "markdown",
   "metadata": {
    "deletable": true,
    "editable": true
   },
   "source": [
    "## Implement Generate Functions\n",
    "### Get Tensors\n",
    "Get tensors from `loaded_graph` using the function [`get_tensor_by_name()`](https://www.tensorflow.org/api_docs/python/tf/Graph#get_tensor_by_name).  Get the tensors using the following names:\n",
    "- \"input:0\"\n",
    "- \"initial_state:0\"\n",
    "- \"final_state:0\"\n",
    "- \"probs:0\"\n",
    "\n",
    "Return the tensors in the following tuple `(InputTensor, InitialStateTensor, FinalStateTensor, ProbsTensor)` "
   ]
  },
  {
   "cell_type": "code",
   "execution_count": 19,
   "metadata": {
    "collapsed": false,
    "deletable": true,
    "editable": true
   },
   "outputs": [
    {
     "name": "stdout",
     "output_type": "stream",
     "text": [
      "Tests Passed\n"
     ]
    }
   ],
   "source": [
    "def get_tensors(loaded_graph):\n",
    "    \"\"\"\n",
    "    Get input, initial state, final state, and probabilities tensor from <loaded_graph>\n",
    "    :param loaded_graph: TensorFlow graph loaded from file\n",
    "    :return: Tuple (InputTensor, InitialStateTensor, FinalStateTensor, ProbsTensor)\n",
    "    \"\"\"\n",
    "    # TODO: Implement Function\n",
    "    \n",
    "    # Get Tensors by Name\n",
    "    InputTensor = loaded_graph.get_tensor_by_name(\"input:0\")\n",
    "    InitialStateTensor = loaded_graph.get_tensor_by_name(\"initial_state:0\")\n",
    "    FinalStateTensor = loaded_graph.get_tensor_by_name(\"final_state:0\")\n",
    "    ProbsTensor = loaded_graph.get_tensor_by_name(\"probs:0\")\n",
    "    return InputTensor, InitialStateTensor, FinalStateTensor, ProbsTensor\n",
    "\n",
    "\n",
    "\"\"\"\n",
    "DON'T MODIFY ANYTHING IN THIS CELL THAT IS BELOW THIS LINE\n",
    "\"\"\"\n",
    "tests.test_get_tensors(get_tensors)"
   ]
  },
  {
   "cell_type": "markdown",
   "metadata": {
    "deletable": true,
    "editable": true
   },
   "source": [
    "### Choose Word\n",
    "Implement the `pick_word()` function to select the next word using `probabilities`."
   ]
  },
  {
   "cell_type": "code",
   "execution_count": 20,
   "metadata": {
    "collapsed": false,
    "deletable": true,
    "editable": true
   },
   "outputs": [
    {
     "name": "stdout",
     "output_type": "stream",
     "text": [
      "Tests Passed\n"
     ]
    }
   ],
   "source": [
    "import random\n",
    "import bisect\n",
    "def pick_word(probabilities, int_to_vocab):\n",
    "    \"\"\"\n",
    "    Pick the next word in the generated text\n",
    "    :param probabilities: Probabilites of the next word\n",
    "    :param int_to_vocab: Dictionary of word ids as the keys and words as the values\n",
    "    :return: String of the predicted word\n",
    "    \"\"\"\n",
    "    # TODO: Implement Function\n",
    "    # Create CDF from PDF\n",
    "    total = sum(probabilities)\n",
    "    cdf = []\n",
    "    cum_sum = 0\n",
    "    for prob in probabilities:\n",
    "        cum_sum += prob\n",
    "        cdf.append(cum_sum / total)\n",
    "    \n",
    "    # Use bisect to pick index\n",
    "    x = random.random()\n",
    "    idx = bisect.bisect(cdf, x)\n",
    "    \n",
    "    # Return word at index\n",
    "    picked_word = int_to_vocab[idx]\n",
    "    return picked_word\n",
    "\n",
    "\n",
    "\"\"\"\n",
    "DON'T MODIFY ANYTHING IN THIS CELL THAT IS BELOW THIS LINE\n",
    "\"\"\"\n",
    "tests.test_pick_word(pick_word)"
   ]
  },
  {
   "cell_type": "markdown",
   "metadata": {
    "deletable": true,
    "editable": true
   },
   "source": [
    "## Generate TV Script\n",
    "This will generate the TV script for you.  Set `gen_length` to the length of TV script you want to generate."
   ]
  },
  {
   "cell_type": "code",
   "execution_count": 22,
   "metadata": {
    "collapsed": false,
    "deletable": true,
    "editable": true
   },
   "outputs": [
    {
     "name": "stdout",
     "output_type": "stream",
     "text": [
      "moe_szyslak: well, i guess that wraps it up. i think for the best thing rat. had to be a better for my love.\n",
      "moe_szyslak:(gasp) right is that can ya me on me of?\n",
      "moe_szyslak: yeah, like, it's a good thing.\n",
      "moe_szyslak: jeez, homer. you know the kind of marriage i am our thousand enough.\n",
      "moe_szyslak: homer, gimme a. the bank thing i ever heard is fight in the fridge of moe's.\n",
      "\n",
      "\n",
      "moe_szyslak:(to homer) you gotta tell me.\n",
      "moe_szyslak: oh, god, you like to feel. i ain't got an bad. i can't have to my fourth.\n",
      "moe_szyslak: i'm the smile to the thing. there's it a piece of me, but about like the kind of the other ever got away, where would i keep this place three for me.\n",
      "moe_szyslak: now, a minute?\n",
      "barney_gumble: hey, moe. can like two.\n",
      "homer_simpson: come on, with all you guys should got against--\n",
      "moe_szyslak: oh, sure.\n",
      "jacques: are you used? you all most would get that.\n",
      "homer_simpson:(seymour)... the last hand, you've got to welcome no!\n",
      "homer_simpson: well, i guess. but uh...\n",
      "homer_simpson:(grim) so...\n",
      "moe_szyslak: homer!(hopeful, brightening) that all is about a month ago,\n",
      "lenny_leonard: come around, moe.\n",
      "moe_szyslak: homer, you don't be me if you couldn't get more.\n",
      "moe_szyslak: he took a piece of money.\n",
      "moe_szyslak:(chuckles laugh)\n",
      "moe_szyslak: no.\n",
      "homer_simpson:(to thought,) jack the only ronstadt?\n",
      "moe_szyslak:(squeals) oh, it's so many. he had me the mechanical of the world.\n",
      "patty_bouvier: they did this beer.\n",
      "moe_szyslak: they took me my bit?\n",
      "grampa_simpson: you call me a school.\n",
      "barney_gumble: hey, did it.\n",
      "moe_szyslak:(blind) yeah, that's it. it's all over. renee ain't gonna come up for the kids, homer, all of his car.\n",
      "homer_simpson: when my english need actually, says...\n",
      "moe_szyslak: what? it was to the chase.\n",
      "moe_szyslak: yeah, i wish i could say the end to pay.\n",
      "homer_simpson: my daughter. just need a little, and it's me.\n",
      "barney_gumble: i'm gonna know, shut up.\n",
      "football_announcer: my name address.\n",
      "walther_hotenhoffer:(piling) homer, i am getting in the real of you\". we're gonna be a human guest.\n",
      "moe_szyslak: oh, now he's raggin' the kind way...\n",
      "moe_szyslak: yeah, i. now.\n",
      "moe_szyslak: uh... seven.\n",
      "waylon_smithers: just a minute... well to i wrap want to even some life up.\n",
      "lenny_leonard: so, says, if i just get the most of your sweaty feet.\n",
      "moe_szyslak:(sighs) i knew go!\n",
      "moe_szyslak:(on phone) listen out of sorry, moe. this is a great thing for me.\n",
      "moe_szyslak: oh, you...\n",
      "c. _montgomery_burns: well, you tell it.\n",
      "homer_simpson:(coming) no, i can't accept that bottle no, i'll see what the last would ever want on is for him.\n",
      "moe_szyslak: well, it's gone, moe. delightful to never into a family once here talk about to skinner.\n",
      "seymour_skinner:(sings) fair adeleine.\n",
      "homer_simpson: to barney!\n",
      "i'm oh.\n",
      "homer_simpson: don't worry. now, walking is it.\n",
      "moe_szyslak: ah, isn't as if it makes homer the wouldn't hits the wire.\n",
      "homer_simpson: what is what? um of, pal.\n",
      "homer_simpson: i just wish. let's get the question thing, don't!\n",
      "\n",
      "\n",
      "carl_carlson: a hundred! that's a thousand from life. and you gotta do it free. like your..\n",
      "homer_simpson:(pants at married, thoughtfully)...\n",
      "homer_simpson:(excited) of course! now marge\" in the\n",
      "\n",
      "\n",
      "\n",
      "homer_simpson:(there) homer, it's all over.\n",
      "\n",
      "\n",
      "lenny_leonard: moe, it was a smooth to chase these the back of my people!\n",
      "moe_szyslak: and are piece of you things.\n",
      "moe_szyslak: get a little could get you to all my friends?\n",
      "homer_simpson: hey, we are you to hear that laughs, my dad's.\n",
      "kent_brockman:\" tonight\" i found it is normal normal...\n",
      "moe_szyslak:(here) oh, no. hey, no. this is just, that refreshment, but i mean, good just, but this guy, we gotta take a day for marge. like this fruit is the big.\n",
      "uncomfortable what made the only terrace?\n",
      "\n",
      "\n",
      "seymour_skinner: one, they're place of a\" secret show.\"\n",
      "moe_szyslak:(sobs) oh, it's sweet. it's worse for me.\n",
      "lenny_leonard: yeah, you tell it... can i turn a million bucks of your life. surprise(the looks) oh, god, you.\n",
      "\n",
      "\n",
      "homer_simpson:(getting moe) oh, my. they're worse.\n",
      "\n",
      "\n",
      "moe_szyslak: hey, hey, get your of on ya?\n"
     ]
    }
   ],
   "source": [
    "gen_length = 1000\n",
    "# homer_simpson, moe_szyslak, or Barney_Gumble\n",
    "prime_word = 'moe_szyslak'\n",
    "\n",
    "\"\"\"\n",
    "DON'T MODIFY ANYTHING IN THIS CELL THAT IS BELOW THIS LINE\n",
    "\"\"\"\n",
    "loaded_graph = tf.Graph()\n",
    "with tf.Session(graph=loaded_graph) as sess:\n",
    "    # Load saved model\n",
    "    loader = tf.train.import_meta_graph(load_dir + '.meta')\n",
    "    loader.restore(sess, load_dir)\n",
    "\n",
    "    # Get Tensors from loaded model\n",
    "    input_text, initial_state, final_state, probs = get_tensors(loaded_graph)\n",
    "\n",
    "    # Sentences generation setup\n",
    "    gen_sentences = [prime_word + ':']\n",
    "    prev_state = sess.run(initial_state, {input_text: np.array([[1]])})\n",
    "\n",
    "    # Generate sentences\n",
    "    for n in range(gen_length):\n",
    "        # Dynamic Input\n",
    "        dyn_input = [[vocab_to_int[word] for word in gen_sentences[-seq_length:]]]\n",
    "        dyn_seq_length = len(dyn_input[0])\n",
    "\n",
    "        # Get Prediction\n",
    "        probabilities, prev_state = sess.run(\n",
    "            [probs, final_state],\n",
    "            {input_text: dyn_input, initial_state: prev_state})\n",
    "        \n",
    "        pred_word = pick_word(probabilities[dyn_seq_length-1], int_to_vocab)\n",
    "\n",
    "        gen_sentences.append(pred_word)\n",
    "    \n",
    "    # Remove tokens\n",
    "    tv_script = ' '.join(gen_sentences)\n",
    "    for key, token in token_dict.items():\n",
    "        ending = ' ' if key in ['\\n', '(', '\"'] else ''\n",
    "        tv_script = tv_script.replace(' ' + token.lower(), key)\n",
    "    tv_script = tv_script.replace('\\n ', '\\n')\n",
    "    tv_script = tv_script.replace('( ', '(')\n",
    "        \n",
    "    print(tv_script)"
   ]
  },
  {
   "cell_type": "markdown",
   "metadata": {
    "deletable": true,
    "editable": true
   },
   "source": [
    "# The TV Script is Nonsensical\n",
    "It's ok if the TV script doesn't make any sense.  We trained on less than a megabyte of text.  In order to get good results, you'll have to use a smaller vocabulary or get more data.  Luckly there's more data!  As we mentioned in the begging of this project, this is a subset of [another dataset](https://www.kaggle.com/wcukierski/the-simpsons-by-the-data).  We didn't have you train on all the data, because that would take too long.  However, you are free to train your neural network on all the data.  After you complete the project, of course.\n",
    "# Submitting This Project\n",
    "When submitting this project, make sure to run all the cells before saving the notebook. Save the notebook file as \"dlnd_tv_script_generation.ipynb\" and save it as a HTML file under \"File\" -> \"Download as\". Include the \"helper.py\" and \"problem_unittests.py\" files in your submission."
   ]
  },
  {
   "cell_type": "code",
   "execution_count": null,
   "metadata": {
    "collapsed": true,
    "deletable": true,
    "editable": true
   },
   "outputs": [],
   "source": []
  }
 ],
 "metadata": {
  "kernelspec": {
   "display_name": "Python 3",
   "language": "python",
   "name": "python3"
  },
  "language_info": {
   "codemirror_mode": {
    "name": "ipython",
    "version": 3
   },
   "file_extension": ".py",
   "mimetype": "text/x-python",
   "name": "python",
   "nbconvert_exporter": "python",
   "pygments_lexer": "ipython3",
   "version": "3.5.2"
  },
  "widgets": {
   "state": {},
   "version": "1.1.2"
  }
 },
 "nbformat": 4,
 "nbformat_minor": 0
}
